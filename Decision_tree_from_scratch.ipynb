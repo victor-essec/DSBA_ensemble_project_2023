{
  "nbformat": 4,
  "nbformat_minor": 0,
  "metadata": {
    "colab": {
      "provenance": []
    },
    "kernelspec": {
      "name": "python3",
      "display_name": "Python 3"
    },
    "language_info": {
      "name": "python"
    }
  },
  "cells": [
    {
      "cell_type": "markdown",
      "source": [
        "# Decision Tree Algorithm From Scratch"
      ],
      "metadata": {
        "id": "KxE5o2bNFf60"
      }
    },
    {
      "cell_type": "markdown",
      "source": [
        "Decision tree algorithm is one of the most popular and practical machine learningtechnique for both classification and regression. Decision trees also provide the foundation for more advanced ensemble methods such as bagging, random forests and gradient boosting.\n",
        "\n",
        "To make implementation more clear and well-organized, the following would be several parts:\n",
        "\n",
        "\n",
        "*   calculate impurity with Gini index and entropy\n",
        "*   choose proper splits\n",
        "*   build the tree\n",
        "*   make a prediction\n",
        "\n",
        "and final part is to put in practice."
      ],
      "metadata": {
        "id": "FqS8ZypuFhjo"
      }
    },
    {
      "cell_type": "markdown",
      "source": [
        "## Classification with Gini Index"
      ],
      "metadata": {
        "id": "q6qjHRgkMQLR"
      }
    },
    {
      "cell_type": "markdown",
      "source": [
        "### Gini Index\n",
        "\n",
        "The Gini index is the most widely used cost function in decision trees. This index calculates the amount of probability that a specific characteristic will be classified incorrectly when it is randomly selected.\n",
        "\n",
        "This is an index that ranges from 0 (a pure cut) to 0.5 (a completely pure cut that divides the data equally). The Gini index is calculated as follows:\\\n",
        "*$Gini = 1-\\sum^{n}_{i=1}(P_i)^2$* \\\n",
        "where *$P_i$* is the probability of having the assigned class or value.\n",
        "\n",
        "According to the formula, the code would be:"
      ],
      "metadata": {
        "id": "qyBGJeufMat9"
      }
    },
    {
      "cell_type": "code",
      "source": [
        "import pandas as pd\n",
        "import numpy as np\n",
        "\n",
        "def gini(data):\n",
        "  # the input of the function would be labels of the data and the data itself.\n",
        "    data_label = data.iloc[:, -1] # get the label\n",
        "    label_num = data_label.value_counts() # count the number of classes and the count within the class\n",
        "    res = 0 # create a variable to recieve the probability\n",
        "    for k in label_num.keys():\n",
        "      # The function in second row would return a dictionary\n",
        "      # for loop is to get the probability of each class\n",
        "        p_k = label_num[k]/len(data_label)\n",
        "        res += p_k ** 2 \n",
        "    return 1 - res"
      ],
      "metadata": {
        "id": "ndoMIopTNhXn"
      },
      "execution_count": 1,
      "outputs": []
    },
    {
      "cell_type": "code",
      "source": [
        "# calculate the Gini index of each feature value to find the optimal split point\n",
        "def gini_index(data, a):\n",
        "  # the input: x -- the data itself; a -- the name of the feature\n",
        "    feature_class = data[a].value_counts() # same for the previous function; to get the count within the feature_class\n",
        "    res = [] # create a empty list to get the result\n",
        "    for feature in feature_class.keys(): # the loop for each feature_class\n",
        "        weight = feature_class[feature]/len(data) # return the weight for each feature_class\n",
        "        gini_value = gini(data.loc[data[a] == feature]) # calculate Gini index by defined function\n",
        "        res.append([feature, weight * gini_value]) # append the list with the values\n",
        "    res = sorted(res, key = lambda x: x[-1])\n",
        "    return res[0]"
      ],
      "metadata": {
        "id": "Y1H-MRsuZw7r"
      },
      "execution_count": 2,
      "outputs": []
    },
    {
      "cell_type": "code",
      "source": [
        "# to obtain the class with most labeled data\n",
        "def get_most_label(data):\n",
        "    data_label = data.iloc[:,-1] # to get the label\n",
        "    label_sort = data_label.value_counts(sort=True) # sort the label by the count within classes\n",
        "    return label_sort.keys()[0]"
      ],
      "metadata": {
        "id": "nhUUt1YQcGuv"
      },
      "execution_count": 3,
      "outputs": []
    },
    {
      "cell_type": "code",
      "source": [
        "# to pick the best feature which is with lowest Gini index\n",
        "def get_best_feature(data):\n",
        "    features = data\n",
        "    res = {} # create a empty list\n",
        "    for a in features:\n",
        "        temp = gini_index(data, a) #temp is a list which is like [feature_value, gini]\n",
        "        res[a] = temp\n",
        "    res = sorted(res.items(),key=lambda x:x[1][1])\n",
        "    return res[0][0], res[0][1][0]"
      ],
      "metadata": {
        "id": "BXJx-uFWc3Gy"
      },
      "execution_count": 4,
      "outputs": []
    },
    {
      "cell_type": "code",
      "source": [
        "def drop_exist_feature(data, best_feature, value, type):\n",
        "    attr = pd.unique(data[best_feature]) # the array that has all values of feature\n",
        "    if type == 1: # split by using feature==value\n",
        "        new_data = [[value], data.loc[data[best_feature] == value]]\n",
        "    else:\n",
        "        new_data = [attr, data.loc[data[best_feature] != value]]\n",
        "    new_data[1] = new_data[1].drop([best_feature], axis=1) # remove the feature\n",
        "    return new_data"
      ],
      "metadata": {
        "id": "pIIqnHjMds_5"
      },
      "execution_count": 5,
      "outputs": []
    },
    {
      "cell_type": "code",
      "source": [
        "# to build the decision tree\n",
        "def create_tree(data):\n",
        "    data_label = data.iloc[:,-1]\n",
        "    if len(data_label.value_counts()) == 1: # only one class\n",
        "        return data_label.values[0]\n",
        "    if all(len(data[i].value_counts()) == 1 for i in data.iloc[:,:-1].columns): # if the feature of all data is same\n",
        "        return get_most_label(data) # take the most labeled one as result\n",
        "    best_feature, best_feature_value = get_best_feature(data) # get the optimal split point based on diff gini index\n",
        "    Tree = {best_feature:{}} # store the tree with dict\n",
        "\n",
        "    Tree[best_feature][best_feature_value] = create_tree(drop_exist_feature(data, best_feature, best_feature_value, 1)[1])\n",
        "    Tree[best_feature]['Others'] = create_tree(drop_exist_feature(data, best_feature, best_feature_value, 2)[1])\n",
        "    return Tree"
      ],
      "metadata": {
        "id": "rp9kXwi0e7z0"
      },
      "execution_count": 6,
      "outputs": []
    },
    {
      "cell_type": "code",
      "source": [
        "def predict(Tree , test_data):\n",
        "    first_feature = list(Tree.keys())[0] # to get the first feature\n",
        "    second_dict = Tree[first_feature] # dict after the first feature\n",
        "    input_first = test_data.get(first_feature) # predict the first feature value of input\n",
        "    input_value = second_dict[input_first] if input_first == first_feature else second_dict['Others'] # predict the dictionary corresponding to the input\n",
        "    if isinstance(input_value , dict): # check if the branch is dict?\n",
        "        class_label = predict(input_value, test_data)\n",
        "    else:\n",
        "        class_label = input_value\n",
        "    return class_label"
      ],
      "metadata": {
        "id": "F7yjj6YGfvob"
      },
      "execution_count": 93,
      "outputs": []
    },
    {
      "cell_type": "code",
      "source": [
        "from sklearn.datasets import load_iris\n",
        "from sklearn.model_selection import train_test_split\n",
        "import numpy as np\n",
        "import matplotlib.pyplot as plt\n",
        "from collections import Counter\n",
        "from math import log\n",
        "\n",
        "iris = load_iris()\n",
        "x = iris.data\n",
        "y = iris.target\n",
        "x_train, x_test, y_train, y_test = train_test_split(x, y, test_size=0.2, random_state=666666)"
      ],
      "metadata": {
        "id": "dmzEUFpXgQpm"
      },
      "execution_count": 94,
      "outputs": []
    },
    {
      "cell_type": "code",
      "source": [
        "data = pd.concat([pd.DataFrame(x_train), pd.DataFrame(y_train)], axis=1)\n",
        "data.columns = ['a','b','c','d', 'label']\n",
        "decision_Tree = create_tree(data)\n"
      ],
      "metadata": {
        "id": "bvx3MkPQUFsB"
      },
      "execution_count": 95,
      "outputs": []
    },
    {
      "cell_type": "code",
      "source": [
        "# def predict(Tree , test_data):\n",
        "first_feature = list(decision_Tree.keys())[0] # to get the first feature\n",
        "second_dict = decision_Tree[first_feature] # dict after the first feature\n",
        "input_first = x_test.loc[22].get(first_feature) # predict the first feature value of input\n",
        "input_value = second_dict[input_first] if input_first == first_feature else second_dict['Others'] # predict the dictionary corresponding to the input\n",
        "if isinstance(input_value , dict): # check if the branch is dict?\n",
        "        class_label = predict(input_value, x_test.loc[22])\n",
        "else:\n",
        "        class_label = input_value\n",
        "print(class_label)"
      ],
      "metadata": {
        "colab": {
          "base_uri": "https://localhost:8080/"
        },
        "id": "AYvjI64NEjYk",
        "outputId": "d2fb71de-46c3-464f-9a4a-b63b60a76641"
      },
      "execution_count": 83,
      "outputs": [
        {
          "output_type": "stream",
          "name": "stdout",
          "text": [
            "1\n"
          ]
        }
      ]
    },
    {
      "cell_type": "code",
      "source": [
        "x_test = pd.DataFrame(x_test)\n",
        "x_test.columns = ['a','b','c','d']\n",
        "# print(x_test)\n",
        "y_pred = []\n",
        "for i in range(x_test.shape[0]):\n",
        "  result = predict(decision_Tree,x_test.loc[i])\n",
        "  y_pred.append(result)"
      ],
      "metadata": {
        "id": "47X7KUI4wbwP"
      },
      "execution_count": 96,
      "outputs": []
    },
    {
      "cell_type": "markdown",
      "source": [
        "## Classification with entropy"
      ],
      "metadata": {
        "id": "FHISxiJRrkVH"
      }
    },
    {
      "cell_type": "markdown",
      "source": [
        "### Entropy\n",
        "\n",
        "Entropy can be used to scale the uncertainty of random variable. The greater random variable's entropy is, the more uncertainty it has.\\\n",
        "$Entropy=-\\sum^{n}_{i=1}p_ilog(p_i)$,\\\n",
        "where $p_i$ is the probability of the class or value."
      ],
      "metadata": {
        "id": "TSTFMPIRr5Vg"
      }
    },
    {
      "cell_type": "code",
      "source": [
        "def entropy(label):\n",
        "    counter = Counter(label) # Count the number of occurrences of different elements and the return value can be generated as a dictionary\n",
        "    ent = 0\n",
        "    for num in counter.values():\n",
        "        p = num / len(label)\n",
        "        ent += -p * log(p)\n",
        "    return ent"
      ],
      "metadata": {
        "id": "D2ErVhJmtULc"
      },
      "execution_count": 4,
      "outputs": []
    },
    {
      "cell_type": "code",
      "source": [
        "# to split the data\n",
        "def split(x_data, y_label, dimension, value):\n",
        "  # the input would be: x_data--data with features; y_label--labels; dimension--the index of the feature; value--the value of the feature\n",
        "    index_left = (x_data[:,dimension] <= value)\n",
        "    index_right = (x_data[:,dimension] > value)\n",
        "    return x_data[index_left], x_data[index_right], y_label[index_left], y_label[index_right]"
      ],
      "metadata": {
        "id": "iPjOefZMtdAC"
      },
      "execution_count": 5,
      "outputs": []
    },
    {
      "cell_type": "code",
      "source": [
        "# to traverse all the dimensions, looking for the right number to split, to find the feature and the number to minimize entropy\n",
        "def one_split(x_data, y_label):\n",
        "    \n",
        "    best_entropy = float('inf')\n",
        "    best_dimension = -1\n",
        "    best_value = -1\n",
        "    \n",
        "    for d in range(x_data.shape[1]):\n",
        "        sorted_index = np.argsort(x_data[:, d])\n",
        "        for i in range(1,len(x_data)):\n",
        "            if x_data[sorted_index[i], d] != x_data[sorted_index[i - 1], d]:\n",
        "                value = (x_data[sorted_index[i], d] + x_data[sorted_index[i-1], d]) / 2\n",
        "                x_left, x_right, y_left, y_right = split(x_data, y_label, d, value)\n",
        "                \n",
        "                p_left = len(x_left) / len(x_data)\n",
        "                p_right = len(x_right) / len(x_data)\n",
        "                \n",
        "                ent = p_left * entropy(y_left) + p_right * entropy(y_right)\n",
        "                if ent < best_entropy:\n",
        "                    best_entropy = ent\n",
        "                    best_dimension = d\n",
        "                    best_value = value\n",
        "    return best_entropy, best_dimension, best_value"
      ],
      "metadata": {
        "id": "i85umHNQuFro"
      },
      "execution_count": 6,
      "outputs": []
    },
    {
      "cell_type": "code",
      "source": [
        "class Node:\n",
        "    def __init__(self,x_data, y_label, dimension, value):\n",
        "        self.x_data = x_data\n",
        "        self.y_label = y_label\n",
        "        self.dimension = dimension\n",
        "        self.value = value\n",
        "        self.left = None\n",
        "        self.right = None"
      ],
      "metadata": {
        "id": "5iY7smxXv1an"
      },
      "execution_count": 7,
      "outputs": []
    },
    {
      "cell_type": "code",
      "source": [
        "def create_tree(x_data, y_label):\n",
        "    ent, dim, value = one_split(x_data, y_label)\n",
        "    x_left, x_right, y_left, y_right = split(x_data, y_label, dim, value)\n",
        "    node = Node(x_data, y_label, dim, value)\n",
        "    if ent < 0.000000001:\n",
        "      return node\n",
        "    node.left = create_tree(x_left, y_left)\n",
        "    node.right = create_tree(x_right, y_right)\n",
        "    return node"
      ],
      "metadata": {
        "id": "IUGxokR2vJ81"
      },
      "execution_count": 8,
      "outputs": []
    },
    {
      "cell_type": "code",
      "source": [
        "def travel(x_data, node):\n",
        "    p = node\n",
        "    if x_data[p.dimension] <= p.value and p.left:\n",
        "        pred = travel(x_data, p.left)\n",
        "    elif x_data[p.dimension] > p.value and p.right:\n",
        "        pred = travel(x_data, p.right)\n",
        "    else:\n",
        "        counter = Counter(p.y_label)\n",
        "        pred = counter.most_common(1)[0][0]\n",
        "    return pred"
      ],
      "metadata": {
        "id": "s4q13c9AwSR9"
      },
      "execution_count": 9,
      "outputs": []
    },
    {
      "cell_type": "code",
      "source": [
        "def predict(tree, x_predict):\n",
        "    y_predict = []\n",
        "    for data in x_predict:\n",
        "      y_pred = travel(data, tree)\n",
        "      y_predict.append(y_pred)\n",
        "    return np.array(y_predict)"
      ],
      "metadata": {
        "id": "eUztwP-1yDze"
      },
      "execution_count": 10,
      "outputs": []
    },
    {
      "cell_type": "code",
      "source": [
        "def score(tree, x_test, y_test):\n",
        "    y_predict = predict(tree, x_test)\n",
        "    return np.sum(y_predict == y_test) / len(y_predict)"
      ],
      "metadata": {
        "id": "BauxUyKgyg3B"
      },
      "execution_count": 18,
      "outputs": []
    },
    {
      "cell_type": "code",
      "source": [
        "from sklearn.datasets import load_iris\n",
        "from sklearn.model_selection import train_test_split\n",
        "import numpy as np\n",
        "import matplotlib.pyplot as plt\n",
        "from collections import Counter\n",
        "from math import log\n",
        "\n",
        "iris = load_iris()\n",
        "x = iris.data\n",
        "y = iris.target\n",
        "x_train, x_test, y_train, y_test = train_test_split(x, y, test_size=0.2, random_state=666666)"
      ],
      "metadata": {
        "id": "gDWJ1_dnw9zj"
      },
      "execution_count": 18,
      "outputs": []
    },
    {
      "cell_type": "code",
      "source": [
        "tree = create_tree(x_train, y_train)\n",
        "y_pred = predict(tree,x_test)\n",
        "print(y_pred)\n",
        "sc = score(tree, x_test, y_test)\n",
        "print(sc)"
      ],
      "metadata": {
        "colab": {
          "base_uri": "https://localhost:8080/"
        },
        "id": "uWsWMuy5w9Qx",
        "outputId": "43b4b2b7-91cd-4943-d7db-2778b49c5d8c"
      },
      "execution_count": 21,
      "outputs": [
        {
          "output_type": "stream",
          "name": "stdout",
          "text": [
            "0.9333333333333333\n"
          ]
        }
      ]
    },
    {
      "cell_type": "markdown",
      "source": [
        "## Regression model"
      ],
      "metadata": {
        "id": "28-Iib7w2O_S"
      }
    },
    {
      "cell_type": "markdown",
      "source": [
        "The decision tree regression model can be interpreted as a set of if-else statements, and it is widely used due to its simplicity, interpretability, and ability to handle nonlinear relationships between the input and target variables."
      ],
      "metadata": {
        "id": "XaUUXsjZ91Cf"
      }
    },
    {
      "cell_type": "code",
      "source": [
        "# calculate the square error\n",
        "def squaErr(data, result, sequence, parameter, divide):\n",
        "    # input data: data--x, result--y, sequence--for index, divede--index of split point;\n",
        "    \n",
        "    # to pick the data we are going to use\n",
        "    left = []\n",
        "    right = []\n",
        "    for i in sequence:\n",
        "        if data[i,parameter]<divide:\n",
        "            left.append(i)\n",
        "        else:\n",
        "            right.append(i)\n",
        "            \n",
        "    # to calculate the square error on left and right regions\n",
        "    c1 = np.mean(result[left])\n",
        "    err1 = np.sum((result[left]-c1)**2)\n",
        "\n",
        "    c2 = np.mean(result[right])\n",
        "    err2 = np.sum((result[right]-c2)**2)\n",
        "    \n",
        "    return err1+err2"
      ],
      "metadata": {
        "id": "hmmhsaqmEh_m"
      },
      "execution_count": 1,
      "outputs": []
    },
    {
      "cell_type": "code",
      "source": [
        "# traverse all to determine the next split point and value\n",
        "def bestdivide(data,result,sequence):\n",
        "    min_para = 0\n",
        "    sortedValue = np.sort(data[sequence][:,min_para]) # sort the feature/data by the result\n",
        "    min_divide = (sortedValue[0]+sortedValue[1])/2 # start splitting with middle one\n",
        "    err = squaErr(data,result,sequence,min_para,min_divide) # calculate square error by calling defined function\n",
        "\n",
        "    for para in range(data.shape[1]):\n",
        "        # update/generate a set of split point with one feature\n",
        "        sortedValue = np.sort(data[sequence][:,para]) # sort the data corresponding to the dividing point\n",
        "        sliceValue = (sortedValue[1:]+sortedValue[:-1])/2 # split from the middle\n",
        "        for divide in sliceValue:\n",
        "            errNew = squaErr(data,result,sequence,para,divide) # calcalate the squaError\n",
        "            if errNew < err:\n",
        "              # if new error is less, then update\n",
        "                err = errNew\n",
        "                min_para = para\n",
        "                min_divide = divide \n",
        "    return min_para, min_divide, err"
      ],
      "metadata": {
        "id": "izdv7g7vEmnQ"
      },
      "execution_count": 2,
      "outputs": []
    },
    {
      "cell_type": "code",
      "source": [
        "# we need a class defining the tree\n",
        "class RegressionTree:\n",
        "    def __init__(self,sequence):\n",
        "        self.isLeaf = True # if it is a leaf/node\n",
        "        self.left =None\n",
        "        self.right = None\n",
        "        self.output = np.mean(result[sequence])\n",
        "        self.sequence = sequence\n",
        "        self.parameter = None\n",
        "        self.divide = None\n",
        "\t\t\n",
        "    # define the action (grow function) for the tree, grow from current node/leaf\n",
        "    def grow(self, minnum):\n",
        "            if (len(self.sequence)<= minnum):\n",
        "              # minimal number of elements\n",
        "                return\n",
        "            parameter,divide,err = bestdivide(data, result, self.sequence)\n",
        "            left = []\n",
        "            right =[]\n",
        "            for i in self.sequence:\n",
        "                if(data[i,parameter]<divide):\n",
        "                    left.append(i)\n",
        "                else:\n",
        "                    right.append(i)\n",
        "            self.parameter = parameter\n",
        "            self.divide = divide\n",
        "            self.isLeaf = False\n",
        "            self.left = RegressionTree(left)\n",
        "            self.right = RegressionTree(right)"
      ],
      "metadata": {
        "id": "lKxvyuxbEQ2r"
      },
      "execution_count": 3,
      "outputs": []
    },
    {
      "cell_type": "code",
      "source": [
        "def updateTree(tree,minNum):\n",
        "    if tree.isLeaf:\n",
        "      tree.grow(minNum)\n",
        "    else:\n",
        "      updateTree(tree.left, minNum)\n",
        "      updateTree(tree.right, minNum)"
      ],
      "metadata": {
        "id": "_dyq3qhxMGXS"
      },
      "execution_count": 4,
      "outputs": []
    },
    {
      "cell_type": "code",
      "source": [
        "def train(data,result,minNum = 1,maxLevel = 5):\n",
        "    # self.data = data\n",
        "    # self.result = result\n",
        "    # minNum = minNum\n",
        "    # self.maxLevel = maxLevel\n",
        "    tree = RegressionTree(range(data.shape[0]))\n",
        "\t\t\n",
        "    # The number of decision tree grows is determined by maxLevel\n",
        "    for i in range(maxLevel):\n",
        "      updateTree(tree, minNum)\n",
        "    return tree"
      ],
      "metadata": {
        "id": "z0kUSKpfLrEW"
      },
      "execution_count": 5,
      "outputs": []
    },
    {
      "cell_type": "code",
      "source": [
        "# Make predictions on single point        \n",
        "def singlePredict(tree, data):\n",
        "  if(tree==None):\n",
        "    return None\n",
        "  tree = tree\n",
        "  while(True):\n",
        "    if(tree.isLeaf):\n",
        "      return tree.output\n",
        "    if(data[tree.parameter]<tree.divide):\n",
        "      tree = tree.left\n",
        "    else:\n",
        "      tree = tree.right"
      ],
      "metadata": {
        "id": "MJ0UK35YNsX9"
      },
      "execution_count": 6,
      "outputs": []
    },
    {
      "cell_type": "code",
      "source": [
        "# predict the data according to the trained model\n",
        "def predict(tree, data):\n",
        "  result = []\n",
        "  if(tree==None):\n",
        "    return None\n",
        "  for i in range (data.shape[0]):\n",
        "    result.append(singlePredict(tree, data[i]))\n",
        "  return result"
      ],
      "metadata": {
        "id": "EzLyaMSrNVos"
      },
      "execution_count": 11,
      "outputs": []
    },
    {
      "cell_type": "code",
      "source": [
        "# load data from sklearn\n",
        "import pandas as pd\n",
        "import numpy as np\n",
        "from sklearn import tree\n",
        "from sklearn import model_selection\n",
        "import matplotlib.pyplot as plt\n",
        "\n",
        "data_url = \"http://lib.stat.cmu.edu/datasets/boston\"\n",
        "raw_df = pd.read_csv(data_url, sep=\"\\s+\", skiprows=22, header=None)\n",
        "data = np.hstack([raw_df.values[::2, :], raw_df.values[1::2, :2]])\n",
        "result = raw_df.values[1::2, 2]\n",
        "\n",
        "X_train, X_test, y_train, y_test = model_selection.train_test_split(data, result, test_size=0.3, random_state=66666)"
      ],
      "metadata": {
        "id": "2HcExS_KOntR"
      },
      "execution_count": 15,
      "outputs": []
    },
    {
      "cell_type": "code",
      "source": [
        "tree = train(X_train,y_train,2,10)\n",
        "result1 = predict(tree, X_test)"
      ],
      "metadata": {
        "colab": {
          "base_uri": "https://localhost:8080/"
        },
        "id": "ZWwTZpQBOp0T",
        "outputId": "67d86638-82a0-4728-8510-aa2dfee861da"
      },
      "execution_count": 16,
      "outputs": [
        {
          "output_type": "stream",
          "name": "stderr",
          "text": [
            "/usr/local/lib/python3.9/dist-packages/numpy/core/fromnumeric.py:3474: RuntimeWarning: Mean of empty slice.\n",
            "  return _methods._mean(a, axis=axis, dtype=dtype,\n",
            "/usr/local/lib/python3.9/dist-packages/numpy/core/_methods.py:189: RuntimeWarning: invalid value encountered in double_scalars\n",
            "  ret = ret.dtype.type(ret / rcount)\n"
          ]
        }
      ]
    },
    {
      "cell_type": "code",
      "source": [
        "# calculate the maximum squared error   \n",
        "def err(result, y):\n",
        "    err = (result-y)**2\n",
        "    return err.sum()"
      ],
      "metadata": {
        "id": "Z1eWcJJcErLE"
      },
      "execution_count": 13,
      "outputs": []
    },
    {
      "cell_type": "code",
      "source": [
        "# Look at the error trend by traversing the tree from 5 to 15 levels\n",
        "errs =[]\n",
        "for i in range(5,16):\n",
        "    tree = train(X_train,y_train,2,i)\n",
        "    errs.append(err(predict(tree,X_test),y_test))\n",
        "\n",
        "# plot the trend\t\n",
        "plt.plot(range(5,16),errs)"
      ],
      "metadata": {
        "colab": {
          "base_uri": "https://localhost:8080/",
          "height": 284
        },
        "id": "yHsbCbN6SmdO",
        "outputId": "fe01d926-164a-42e6-cac1-fc26184afe7f"
      },
      "execution_count": 17,
      "outputs": [
        {
          "output_type": "execute_result",
          "data": {
            "text/plain": [
              "[<matplotlib.lines.Line2D at 0x7f4794953250>]"
            ]
          },
          "metadata": {},
          "execution_count": 17
        },
        {
          "output_type": "display_data",
          "data": {
            "text/plain": [
              "<Figure size 432x288 with 1 Axes>"
            ],
            "image/png": "[encoded data removed]"
          },
          "metadata": {
            "needs_background": "light"
          }
        }
      ]
    }
  ]
}